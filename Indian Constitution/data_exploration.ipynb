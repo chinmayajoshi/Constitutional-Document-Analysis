{
 "cells": [
  {
   "cell_type": "markdown",
   "metadata": {},
   "source": [
    "### Imports"
   ]
  },
  {
   "cell_type": "code",
   "execution_count": 7,
   "metadata": {},
   "outputs": [],
   "source": [
    "import os\n",
    "from pathlib import Path, PurePosixPath"
   ]
  },
  {
   "cell_type": "markdown",
   "metadata": {},
   "source": [
    "### Download Indian Constitution PDF File"
   ]
  },
  {
   "cell_type": "code",
   "execution_count": 15,
   "metadata": {},
   "outputs": [
    {
     "name": "stdout",
     "output_type": "stream",
     "text": [
      "Directory created\n",
      "File does not exist\n",
      "Downloaded the file at doc\\India.pdf\n"
     ]
    }
   ],
   "source": [
    "try:\n",
    "    to_be_downloaded = True\n",
    "    indian_constition_download_link = 'https://cdnbbsr.s3waas.gov.in/s380537a945c7aaa788ccfcdf1b99b5d8f/uploads/2023/05/2023050195.pdf'\n",
    "    dir_path = \"./data\"\n",
    "\n",
    "    # check directory\n",
    "    if Path(dir_path).is_dir() != True:\n",
    "        os.system(\"mkdir doc\")\n",
    "        print(\"Directory created\")\n",
    "    else: print(\"Directory already exists\")\n",
    "\n",
    "    # check file\n",
    "    file_path = \"./data/India.pdf\"\n",
    "    my_file = Path(file_path)\n",
    "\n",
    "    if my_file.is_file():\n",
    "        ext = PurePosixPath(my_file).suffix\n",
    "        if ext == '.pdf':\n",
    "            to_be_downloaded = False\n",
    "            print(\"File Exists\")\n",
    "        else:\n",
    "            print(f\"File exists present with extention {ext}\")\n",
    "    else: \n",
    "        print(\"File does not exist\")\n",
    "\n",
    "    # download if required \n",
    "    if to_be_downloaded:\n",
    "        os.system(f\"curl -o {file_path} {indian_constition_download_link}\")\n",
    "        print(f\"Downloaded the file at {my_file}\")\n",
    "\n",
    "except Exception as e:\n",
    "    print(f\"Exception occurred: {e}\")"
   ]
  },
  {
   "cell_type": "markdown",
   "metadata": {},
   "source": [
    "### Explore PDF"
   ]
  },
  {
   "cell_type": "code",
   "execution_count": null,
   "metadata": {},
   "outputs": [],
   "source": []
  },
  {
   "cell_type": "code",
   "execution_count": null,
   "metadata": {},
   "outputs": [],
   "source": []
  },
  {
   "cell_type": "code",
   "execution_count": null,
   "metadata": {},
   "outputs": [],
   "source": []
  }
 ],
 "metadata": {
  "kernelspec": {
   "display_name": "textgen",
   "language": "python",
   "name": "python3"
  },
  "language_info": {
   "codemirror_mode": {
    "name": "ipython",
    "version": 3
   },
   "file_extension": ".py",
   "mimetype": "text/x-python",
   "name": "python",
   "nbconvert_exporter": "python",
   "pygments_lexer": "ipython3",
   "version": "3.8.16"
  },
  "orig_nbformat": 4
 },
 "nbformat": 4,
 "nbformat_minor": 2
}
