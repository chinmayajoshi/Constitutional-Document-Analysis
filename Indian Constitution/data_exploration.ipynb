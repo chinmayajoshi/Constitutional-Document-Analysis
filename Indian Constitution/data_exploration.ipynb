{
 "cells": [
  {
   "cell_type": "markdown",
   "metadata": {},
   "source": [
    "### Imports"
   ]
  },
  {
   "cell_type": "code",
   "execution_count": 1,
   "metadata": {},
   "outputs": [],
   "source": [
    "import os\n",
    "from pathlib import Path, PurePosixPath\n",
    "import PyPDF2\n",
    "import pandas as pd\n",
    "from tqdm.notebook import tqdm\n",
    "import re"
   ]
  },
  {
   "cell_type": "markdown",
   "metadata": {},
   "source": [
    "### Download Indian Constitution PDF File"
   ]
  },
  {
   "cell_type": "code",
   "execution_count": 2,
   "metadata": {},
   "outputs": [
    {
     "name": "stdout",
     "output_type": "stream",
     "text": [
      "Directory already exists\n",
      "File Exists\n"
     ]
    }
   ],
   "source": [
    "try:\n",
    "    to_be_downloaded = True\n",
    "    indian_constition_download_link = 'https://cdnbbsr.s3waas.gov.in/s380537a945c7aaa788ccfcdf1b99b5d8f/uploads/2023/05/2023050195.pdf'\n",
    "    dir_path = \"./data\"\n",
    "\n",
    "    # check directory\n",
    "    if Path(dir_path).is_dir() != True:\n",
    "        os.system(\"mkdir doc\")\n",
    "        print(\"Directory created\")\n",
    "    else: print(\"Directory already exists\")\n",
    "\n",
    "    # check file\n",
    "    file_path = \"./data/India.pdf\"\n",
    "    my_file = Path(file_path)\n",
    "\n",
    "    if my_file.is_file():\n",
    "        ext = PurePosixPath(my_file).suffix\n",
    "        if ext == '.pdf':\n",
    "            to_be_downloaded = False\n",
    "            print(\"File Exists\")\n",
    "        else:\n",
    "            print(f\"File exists present with extention {ext}\")\n",
    "    else: \n",
    "        print(\"File does not exist\")\n",
    "\n",
    "    # download if required \n",
    "    if to_be_downloaded:\n",
    "        os.system(f\"curl -o {file_path} {indian_constition_download_link}\")\n",
    "        print(f\"Downloaded the file at {my_file}\")\n",
    "\n",
    "except Exception as e:\n",
    "    print(f\"Exception occurred: {e}\")"
   ]
  },
  {
   "cell_type": "markdown",
   "metadata": {},
   "source": [
    "### Explore PDF"
   ]
  },
  {
   "cell_type": "markdown",
   "metadata": {},
   "source": [
    "#### Reading File"
   ]
  },
  {
   "cell_type": "code",
   "execution_count": 3,
   "metadata": {},
   "outputs": [
    {
     "name": "stdout",
     "output_type": "stream",
     "text": [
      "PDF page count: 404\n",
      " \n",
      " \n",
      " \n",
      " \n",
      " \n",
      " THE CONSTITUTION OF INDIA \n",
      "[As on       May , 2022] \n",
      "2022 \n",
      " \n",
      " \n",
      " \n",
      "PREFACE \n",
      " \n",
      "This is the  fifth  pocket size edition of the Constitution of \n",
      "India in the diglot form. In this edition, the text of the \n",
      "Constitution of India has been brought up-to-date by \n",
      "incorporating therein all the amendments up to the Constitution \n",
      "(One Hundred and Fifth Amendment) Act, 2021. The foot notes \n",
      "below the text indicate the Constitution Amendment Acts by \n",
      "which such amendments have been made.  \n",
      "The Constitution (One Hundredth Amendment) Act, 2015 \n",
      "containing details of acquired and transferred territories \n",
      "between the Governments of India and Bangladesh has been \n",
      "provided in APPENDIX I. \n",
      "The Constitution (Application to Jammu and Kashmir) \n",
      "Order, 2019 and the declaration under article 370(3) of the \n",
      "Constitution have been provided respectively in Appendix II and \n",
      "Appendix III for reference. \n",
      " \n",
      " \n",
      "New Delhi;                                              Dr. Reeta Vasishta, \n",
      "                                 Secretary to the Government of India.  \n",
      " \n",
      " \n"
     ]
    }
   ],
   "source": [
    "# read pdf file\n",
    "with open(file_path, \"rb\") as pdf_file:\n",
    "    pdf_reader = PyPDF2.PdfReader(pdf_file)\n",
    "    total_pages = len(pdf_reader.pages)\n",
    "    \n",
    "    # page count\n",
    "    print(f\"PDF page count: {total_pages}\")\n",
    "\n",
    "    # printing sample page-2\n",
    "    for i in range(2):\n",
    "        page = pdf_reader.pages[i]\n",
    "        text = page.extract_text()\n",
    "        print(text)"
   ]
  },
  {
   "cell_type": "markdown",
   "metadata": {},
   "source": [
    "![image](https://cdn.vectorstock.com/i/preview-1x/28/66/india-map-and-indian-flag-oriental-country-vector-28302866.webp)"
   ]
  },
  {
   "cell_type": "code",
   "execution_count": 4,
   "metadata": {},
   "outputs": [
    {
     "name": "stdout",
     "output_type": "stream",
     "text": [
      "THE CONSTITUTION  OF INDIA \n",
      " \n",
      "PREAMBLE  \n",
      " \n",
      "WE, THE PEOPLE OF INDIA, having solemnly resolved to constitute \n",
      "India into a 1[SOVEREIGN SOCIALIST SECULAR DEMOCRATIC \n",
      "REPUBLIC] and to secure to all its citizens: \n",
      " \n",
      "JUSTICE, social, economic and political; \n",
      " \n",
      "LIBERTY of thought, expression, belief, faith and worship; \n",
      " \n",
      "EQUALITY of status and of opportunity; \n",
      " \n",
      "and to promote among them all \n",
      " \n",
      "FRATERNITY assuring the dignity of the individual and the 2[unity \n",
      "and integrity of the Nation]; \n",
      " \n",
      "IN OUR CONSTITUENT ASSEMBLY this twenty-sixth day of \n",
      "November, 1949, do HEREBY ADOPT, ENACT AND GIVE TO \n",
      "OURSELVES THIS CONSTITUTION. \n",
      " \n",
      "______________________________________________ \n",
      "1. Subs. by the Constitution (Forty-second Amendment) Act, 1976, s.2, for \"SOVEREIGN \n",
      "DEMOCRATIC REPUBLIC\" (w.e.f. 3-1-1977). \n",
      "2. Subs. by s. 2, ibid., for \"Unity of the Nation\" (w.e.f. 3-1-1977).  \n"
     ]
    }
   ],
   "source": [
    "# read pdf file\n",
    "with open(file_path, \"rb\") as pdf_file:\n",
    "    pdf_reader = PyPDF2.PdfReader(pdf_file)\n",
    "\n",
    "    # printing sample page-2\n",
    "    for i in range(31,32):\n",
    "        page = pdf_reader.pages[i]\n",
    "        text = page.extract_text()\n",
    "        print(text)"
   ]
  },
  {
   "cell_type": "markdown",
   "metadata": {},
   "source": [
    "#### Extracting Abbreviations from Page-2<br>"
   ]
  },
  {
   "cell_type": "markdown",
   "metadata": {},
   "source": [
    "Will use to include entire terms in main text"
   ]
  },
  {
   "cell_type": "code",
   "execution_count": 5,
   "metadata": {},
   "outputs": [
    {
     "name": "stdout",
     "output_type": "stream",
     "text": [
      " \n",
      "LIST OF ABBREVIATIONS USED \n",
      " \n",
      " \n",
      "Art., arts.  ........................................................  for Article, articles. \n",
      "Cl., cls.     ........................................................   ″   Clause, clauses. \n",
      "C.O.          ........................................................   ″   Constitution Order. \n",
      "Ins.            ........................................................   ″    Inserted. \n",
      "P., pp.       ........................................................   ″    Page, pages. \n",
      "Pt.             ........................................................   ″    Part. \n",
      "Rep.          ........................................................   ″    Repealed. \n",
      "Ss., ss.     ..........................................................   ″    Section, sections. \n",
      "Sch.         .........................................................   ″    Schedule. \n",
      "Subs.         ........................................................   ″    Substituted. \n",
      "w.e.f.       .........................................................   ″    with effect from. \n",
      "w.r.e.f.        ......................................................   ″ with retrospective effect \n",
      "from. \n",
      " \n"
     ]
    }
   ],
   "source": [
    "with open(file_path, \"rb\") as pdf_file:\n",
    "    pdf_reader = PyPDF2.PdfReader(pdf_file)\n",
    "        \n",
    "    page = pdf_reader.pages[2]\n",
    "    abbr_text = page.extract_text()\n",
    "    print(abbr_text)"
   ]
  },
  {
   "cell_type": "code",
   "execution_count": 6,
   "metadata": {},
   "outputs": [],
   "source": [
    "lines = abbr_text.split('\\n')\n",
    "abbr_dict = {}\n",
    "\n",
    "# iterate over all lines w/ abbr\n",
    "for line in lines[4:-1]:\n",
    "    line = line.replace('..', '-').replace(\"for\", \"″\").replace(\"″\", '@').replace(\"  \", \"\").replace(\",\", \"|\")\n",
    "    parts = line.split('-')\n",
    "    \n",
    "    # split key and value pairs\n",
    "    acronym_parts = parts[0].strip().split('|')\n",
    "    long_parts = parts[-1].replace(\"@\", \"\").strip().split('|')\n",
    "    assert len(acronym_parts) == len(long_parts)\n",
    "\n",
    "    # store keys and values pairs\n",
    "    for acronym_part, long_part in zip(acronym_parts, long_parts):\n",
    "        long_part = long_part.strip()\n",
    "        if long_part[-1] == '.': long_part = long_part[:-1]\n",
    "        if long_part[0] == '.': long_part = long_part[1:]\n",
    "        abbr_dict[acronym_part.strip()]  = long_part\n",
    "            \n",
    "# manually editing last entry due to extra line\n",
    "abbr_dict['w.r.e.f.'] = 'with retrospective effect from'\n",
    "del abbr_dict['from.']"
   ]
  },
  {
   "cell_type": "code",
   "execution_count": 7,
   "metadata": {},
   "outputs": [
    {
     "data": {
      "text/html": [
       "<div>\n",
       "<style scoped>\n",
       "    .dataframe tbody tr th:only-of-type {\n",
       "        vertical-align: middle;\n",
       "    }\n",
       "\n",
       "    .dataframe tbody tr th {\n",
       "        vertical-align: top;\n",
       "    }\n",
       "\n",
       "    .dataframe thead th {\n",
       "        text-align: right;\n",
       "    }\n",
       "</style>\n",
       "<table border=\"1\" class=\"dataframe\">\n",
       "  <thead>\n",
       "    <tr style=\"text-align: right;\">\n",
       "      <th></th>\n",
       "      <th>acronym</th>\n",
       "      <th>fullform</th>\n",
       "    </tr>\n",
       "  </thead>\n",
       "  <tbody>\n",
       "    <tr>\n",
       "      <th>0</th>\n",
       "      <td>Art.</td>\n",
       "      <td>Article</td>\n",
       "    </tr>\n",
       "    <tr>\n",
       "      <th>1</th>\n",
       "      <td>arts.</td>\n",
       "      <td>articles</td>\n",
       "    </tr>\n",
       "    <tr>\n",
       "      <th>2</th>\n",
       "      <td>Cl.</td>\n",
       "      <td>Clause</td>\n",
       "    </tr>\n",
       "    <tr>\n",
       "      <th>3</th>\n",
       "      <td>cls.</td>\n",
       "      <td>clauses</td>\n",
       "    </tr>\n",
       "    <tr>\n",
       "      <th>4</th>\n",
       "      <td>C.O.</td>\n",
       "      <td>Constitution Order</td>\n",
       "    </tr>\n",
       "    <tr>\n",
       "      <th>5</th>\n",
       "      <td>Ins.</td>\n",
       "      <td>Inserted</td>\n",
       "    </tr>\n",
       "    <tr>\n",
       "      <th>6</th>\n",
       "      <td>P.</td>\n",
       "      <td>Page</td>\n",
       "    </tr>\n",
       "    <tr>\n",
       "      <th>7</th>\n",
       "      <td>pp.</td>\n",
       "      <td>pages</td>\n",
       "    </tr>\n",
       "    <tr>\n",
       "      <th>8</th>\n",
       "      <td>Pt.</td>\n",
       "      <td>Part</td>\n",
       "    </tr>\n",
       "    <tr>\n",
       "      <th>9</th>\n",
       "      <td>Rep.</td>\n",
       "      <td>Repealed</td>\n",
       "    </tr>\n",
       "    <tr>\n",
       "      <th>10</th>\n",
       "      <td>Ss.</td>\n",
       "      <td>Section</td>\n",
       "    </tr>\n",
       "    <tr>\n",
       "      <th>11</th>\n",
       "      <td>ss.</td>\n",
       "      <td>sections</td>\n",
       "    </tr>\n",
       "    <tr>\n",
       "      <th>12</th>\n",
       "      <td>Sch.</td>\n",
       "      <td>Schedule</td>\n",
       "    </tr>\n",
       "    <tr>\n",
       "      <th>13</th>\n",
       "      <td>Subs.</td>\n",
       "      <td>Substituted</td>\n",
       "    </tr>\n",
       "    <tr>\n",
       "      <th>14</th>\n",
       "      <td>w.e.f.</td>\n",
       "      <td>with effect from</td>\n",
       "    </tr>\n",
       "    <tr>\n",
       "      <th>15</th>\n",
       "      <td>w.r.e.f.</td>\n",
       "      <td>with retrospective effect from</td>\n",
       "    </tr>\n",
       "  </tbody>\n",
       "</table>\n",
       "</div>"
      ],
      "text/plain": [
       "     acronym                        fullform\n",
       "0       Art.                         Article\n",
       "1      arts.                        articles\n",
       "2        Cl.                          Clause\n",
       "3       cls.                         clauses\n",
       "4       C.O.              Constitution Order\n",
       "5       Ins.                        Inserted\n",
       "6         P.                            Page\n",
       "7        pp.                           pages\n",
       "8        Pt.                            Part\n",
       "9       Rep.                        Repealed\n",
       "10       Ss.                         Section\n",
       "11       ss.                        sections\n",
       "12      Sch.                        Schedule\n",
       "13     Subs.                     Substituted\n",
       "14    w.e.f.                with effect from\n",
       "15  w.r.e.f.  with retrospective effect from"
      ]
     },
     "execution_count": 7,
     "metadata": {},
     "output_type": "execute_result"
    }
   ],
   "source": [
    "abbr_df = pd.DataFrame(abbr_dict.items(), columns=['acronym', 'fullform'])\n",
    "abbr_df"
   ]
  },
  {
   "cell_type": "code",
   "execution_count": 8,
   "metadata": {},
   "outputs": [],
   "source": [
    "abbr_df.to_csv('data/abbreviations.csv', index=False)"
   ]
  },
  {
   "cell_type": "markdown",
   "metadata": {},
   "source": [
    "#### Extracting Title Contents from Pages 4-30"
   ]
  },
  {
   "cell_type": "code",
   "execution_count": 9,
   "metadata": {},
   "outputs": [
    {
     "data": {
      "application/vnd.jupyter.widget-view+json": {
       "model_id": "3735f09e57784a159b1276d90944c10b",
       "version_major": 2,
       "version_minor": 0
      },
      "text/plain": [
       "  0%|          | 0/28 [00:00<?, ?it/s]"
      ]
     },
     "metadata": {},
     "output_type": "display_data"
    }
   ],
   "source": [
    "articles_dict = {}\n",
    "title_content_dict = {}\n",
    "title_dict = {}\n",
    "\n",
    "with open(file_path, \"rb\") as pdf_file:\n",
    "    pdf_reader = PyPDF2.PdfReader(pdf_file)\n",
    "    total_pages = len(pdf_reader.pages)\n",
    "        \n",
    "    for page_i in tqdm(range(3, 31)):\n",
    "        page = pdf_reader.pages[page_i]\n",
    "        text = page.extract_text().strip()\n",
    "\n",
    "        article_reg = r'(\\d+[A-Za-z]*)(\\.\\s[^\\n]+(?:\\n[^\\n\\d]+)*)'\n",
    "        article_matches = re.findall(article_reg, text)\n",
    "        \n",
    "        # storing article matches in dict\n",
    "        for num, content in article_matches:\n",
    "            num = num.strip()\n",
    "            content = content.strip().replace('\\n', ' ').replace('\\uf0be', '')\n",
    "            if content[0] == '.': content = content[2:].strip()\n",
    "            # ignore PART inclusion in content\n",
    "            content = content.split(\"PART\")[0].strip()\n",
    "            articles_dict[num] = content\n",
    "\n",
    "        # parts_reg = r'(PART\\s+\\w+)([\\w\\s]+)(\\d+\\.)'\n",
    "        # parts_reg = r'(PART\\s+[IVXLCDM]+[A-Za-z]?)([\\s\\S]+?)(?=\\nPART\\s+|\\d+[A-Za-z]?\\.|\\Z)(\\d+[A-Za-z]?\\.)'\n",
    "        parts_reg = r'(PART\\s+[IVXLCDM]+[A-Za-z]?)([\\s\\S]+?)(?=\\nPART\\s+|\\d+[A-Za-z]?-?[A-Za-z]?\\.|\\Z)(\\d+[A-Za-z]?-?[A-Za-z]?\\.?)'\n",
    "        title_matches = re.findall(parts_reg, text)\n",
    "\n",
    "        # storing article matches in dict\n",
    "        for num, content, next in title_matches:\n",
    "            num = num.strip()\n",
    "            content = content.strip().replace('\\n', ' ').replace('\\uf0be', '')\n",
    "            if content[0] == '.': content = content[2:].strip()\n",
    "            title_content_dict[num] = content\n",
    "            title_dict[next.replace('.', '')] = num\n",
    "    \n",
    "# manually deleting the incorrect entry PART C - 2015 from page-31\n",
    "del title_content_dict['PART C'], title_dict['2015']\n",
    "# manually correcting the issue in the last article \n",
    "articles_dict['395'] = articles_dict['395'].split()[0]"
   ]
  },
  {
   "cell_type": "code",
   "execution_count": 10,
   "metadata": {},
   "outputs": [],
   "source": [
    "title_df = pd.DataFrame(title_dict.items(), columns=['Beginning Article Number', 'Part Number'])\n",
    "title_content_df = pd.DataFrame(title_content_dict.items(), columns=['Part Number', 'Part Title'])\n",
    "articles_df = pd.DataFrame(articles_dict.items(), columns=['Article Number', 'Article Title'])"
   ]
  },
  {
   "cell_type": "code",
   "execution_count": 11,
   "metadata": {},
   "outputs": [
    {
     "data": {
      "text/plain": [
       "(  Beginning Article Number Part Number\n",
       " 0                        1      PART I\n",
       " 1                        5     PART II\n",
       " 2                       12    PART III\n",
       " 3                       36     PART IV\n",
       " 4                      51A    PART IVA,\n",
       " (26, 2))"
      ]
     },
     "execution_count": 11,
     "metadata": {},
     "output_type": "execute_result"
    }
   ],
   "source": [
    "title_df.head(),\\\n",
    "    title_df.shape"
   ]
  },
  {
   "cell_type": "code",
   "execution_count": 12,
   "metadata": {},
   "outputs": [
    {
     "data": {
      "text/plain": [
       "(  Part Number                             Part Title\n",
       " 0      PART I  THE UNION AND ITS TERRITORY  ARTICLES\n",
       " 1     PART II                            CITIZENSHIP\n",
       " 2    PART III            FUNDAMENTAL RIGHTS  General\n",
       " 3     PART IV   DIRECTIVE PRINCIPLES OF STATE POLICY\n",
       " 4    PART IVA                     FUNDAMENTAL DUTIES,\n",
       " (26, 2))"
      ]
     },
     "execution_count": 12,
     "metadata": {},
     "output_type": "execute_result"
    }
   ],
   "source": [
    "title_content_df.head(),\\\n",
    "    title_content_df.shape"
   ]
  },
  {
   "cell_type": "code",
   "execution_count": 13,
   "metadata": {},
   "outputs": [
    {
     "data": {
      "text/plain": [
       "(  Article Number                                      Article Title\n",
       " 0              1                   Name and territory of the Union.\n",
       " 1              2       Admission or establishment of new States.  [\n",
       " 2             2A  Sikkim to be associated with the Union. —Omitt...\n",
       " 3              3  Formation of new States and alteration of area...\n",
       " 4              4  Laws made under articles 2 and 3 to provide fo...,\n",
       " (498, 2))"
      ]
     },
     "execution_count": 13,
     "metadata": {},
     "output_type": "execute_result"
    }
   ],
   "source": [
    "articles_df.head(),\\\n",
    "    articles_df.shape"
   ]
  },
  {
   "cell_type": "code",
   "execution_count": 14,
   "metadata": {},
   "outputs": [
    {
     "data": {
      "application/vnd.jupyter.widget-view+json": {
       "model_id": "5111d3de7a144398a879ca7fad7d5ea7",
       "version_major": 2,
       "version_minor": 0
      },
      "text/plain": [
       "0it [00:00, ?it/s]"
      ]
     },
     "metadata": {},
     "output_type": "display_data"
    }
   ],
   "source": [
    "# Consolidating all information into singular dataframe \n",
    "# Article Number, Article Title, Part, Part Title\n",
    "\n",
    "articles_list = []\n",
    "\n",
    "all_parts = list(title_dict.keys())\n",
    "parts_count = len(all_parts)\n",
    "current_part_index = 0\n",
    "\n",
    "# iterate through all articles \n",
    "for idx, (art_num, art_title) in tqdm(enumerate(articles_dict.items())):\n",
    "    # update parts based on article-part lookup\n",
    "    if (current_part_index+1 < parts_count) and (art_num == all_parts[current_part_index+1]): current_part_index += 1\n",
    "        \n",
    "    # lookup current part and part title\n",
    "    current_part = title_dict[all_parts[current_part_index]]\n",
    "    current_part_title = title_content_dict[current_part]\n",
    "\n",
    "    this_article_data = {'Article Number': art_num,\\\n",
    "                    'Article Title': art_title,\\\n",
    "                    'Part': current_part,\\\n",
    "                    'Part Title': current_part_title}\n",
    "    \n",
    "    articles_list.append(this_article_data)\n",
    "\n",
    "# create dataframe\n",
    "articles_data_df = pd.DataFrame(articles_list)"
   ]
  },
  {
   "cell_type": "code",
   "execution_count": 15,
   "metadata": {},
   "outputs": [
    {
     "data": {
      "text/html": [
       "<div>\n",
       "<style scoped>\n",
       "    .dataframe tbody tr th:only-of-type {\n",
       "        vertical-align: middle;\n",
       "    }\n",
       "\n",
       "    .dataframe tbody tr th {\n",
       "        vertical-align: top;\n",
       "    }\n",
       "\n",
       "    .dataframe thead th {\n",
       "        text-align: right;\n",
       "    }\n",
       "</style>\n",
       "<table border=\"1\" class=\"dataframe\">\n",
       "  <thead>\n",
       "    <tr style=\"text-align: right;\">\n",
       "      <th></th>\n",
       "      <th>Article Number</th>\n",
       "      <th>Article Title</th>\n",
       "      <th>Part</th>\n",
       "      <th>Part Title</th>\n",
       "    </tr>\n",
       "  </thead>\n",
       "  <tbody>\n",
       "    <tr>\n",
       "      <th>0</th>\n",
       "      <td>1</td>\n",
       "      <td>Name and territory of the Union.</td>\n",
       "      <td>PART I</td>\n",
       "      <td>THE UNION AND ITS TERRITORY  ARTICLES</td>\n",
       "    </tr>\n",
       "    <tr>\n",
       "      <th>1</th>\n",
       "      <td>2</td>\n",
       "      <td>Admission or establishment of new States.  [</td>\n",
       "      <td>PART I</td>\n",
       "      <td>THE UNION AND ITS TERRITORY  ARTICLES</td>\n",
       "    </tr>\n",
       "    <tr>\n",
       "      <th>2</th>\n",
       "      <td>2A</td>\n",
       "      <td>Sikkim to be associated with the Union. —Omitt...</td>\n",
       "      <td>PART I</td>\n",
       "      <td>THE UNION AND ITS TERRITORY  ARTICLES</td>\n",
       "    </tr>\n",
       "    <tr>\n",
       "      <th>3</th>\n",
       "      <td>3</td>\n",
       "      <td>Formation of new States and alteration of area...</td>\n",
       "      <td>PART I</td>\n",
       "      <td>THE UNION AND ITS TERRITORY  ARTICLES</td>\n",
       "    </tr>\n",
       "    <tr>\n",
       "      <th>4</th>\n",
       "      <td>4</td>\n",
       "      <td>Laws made under articles 2 and 3 to provide fo...</td>\n",
       "      <td>PART I</td>\n",
       "      <td>THE UNION AND ITS TERRITORY  ARTICLES</td>\n",
       "    </tr>\n",
       "    <tr>\n",
       "      <th>5</th>\n",
       "      <td>5</td>\n",
       "      <td>Citizenship at the commencement of the Constit...</td>\n",
       "      <td>PART II</td>\n",
       "      <td>CITIZENSHIP</td>\n",
       "    </tr>\n",
       "    <tr>\n",
       "      <th>6</th>\n",
       "      <td>6</td>\n",
       "      <td>Rights of citizenship of certain persons who h...</td>\n",
       "      <td>PART II</td>\n",
       "      <td>CITIZENSHIP</td>\n",
       "    </tr>\n",
       "    <tr>\n",
       "      <th>7</th>\n",
       "      <td>7</td>\n",
       "      <td>Rights of citizenship of certain migrants to P...</td>\n",
       "      <td>PART II</td>\n",
       "      <td>CITIZENSHIP</td>\n",
       "    </tr>\n",
       "    <tr>\n",
       "      <th>8</th>\n",
       "      <td>8</td>\n",
       "      <td>Rights of citizenship of certain persons of In...</td>\n",
       "      <td>PART II</td>\n",
       "      <td>CITIZENSHIP</td>\n",
       "    </tr>\n",
       "    <tr>\n",
       "      <th>9</th>\n",
       "      <td>9</td>\n",
       "      <td>Persons voluntarily acquiring citizenship of a...</td>\n",
       "      <td>PART II</td>\n",
       "      <td>CITIZENSHIP</td>\n",
       "    </tr>\n",
       "  </tbody>\n",
       "</table>\n",
       "</div>"
      ],
      "text/plain": [
       "  Article Number                                      Article Title     Part  \\\n",
       "0              1                   Name and territory of the Union.   PART I   \n",
       "1              2       Admission or establishment of new States.  [   PART I   \n",
       "2             2A  Sikkim to be associated with the Union. —Omitt...   PART I   \n",
       "3              3  Formation of new States and alteration of area...   PART I   \n",
       "4              4  Laws made under articles 2 and 3 to provide fo...   PART I   \n",
       "5              5  Citizenship at the commencement of the Constit...  PART II   \n",
       "6              6  Rights of citizenship of certain persons who h...  PART II   \n",
       "7              7  Rights of citizenship of certain migrants to P...  PART II   \n",
       "8              8  Rights of citizenship of certain persons of In...  PART II   \n",
       "9              9  Persons voluntarily acquiring citizenship of a...  PART II   \n",
       "\n",
       "                              Part Title  \n",
       "0  THE UNION AND ITS TERRITORY  ARTICLES  \n",
       "1  THE UNION AND ITS TERRITORY  ARTICLES  \n",
       "2  THE UNION AND ITS TERRITORY  ARTICLES  \n",
       "3  THE UNION AND ITS TERRITORY  ARTICLES  \n",
       "4  THE UNION AND ITS TERRITORY  ARTICLES  \n",
       "5                            CITIZENSHIP  \n",
       "6                            CITIZENSHIP  \n",
       "7                            CITIZENSHIP  \n",
       "8                            CITIZENSHIP  \n",
       "9                            CITIZENSHIP  "
      ]
     },
     "execution_count": 15,
     "metadata": {},
     "output_type": "execute_result"
    }
   ],
   "source": [
    "articles_data_df.head(10)"
   ]
  },
  {
   "cell_type": "code",
   "execution_count": 16,
   "metadata": {},
   "outputs": [
    {
     "data": {
      "text/html": [
       "<div>\n",
       "<style scoped>\n",
       "    .dataframe tbody tr th:only-of-type {\n",
       "        vertical-align: middle;\n",
       "    }\n",
       "\n",
       "    .dataframe tbody tr th {\n",
       "        vertical-align: top;\n",
       "    }\n",
       "\n",
       "    .dataframe thead th {\n",
       "        text-align: right;\n",
       "    }\n",
       "</style>\n",
       "<table border=\"1\" class=\"dataframe\">\n",
       "  <thead>\n",
       "    <tr style=\"text-align: right;\">\n",
       "      <th></th>\n",
       "      <th>Article Number</th>\n",
       "      <th>Article Title</th>\n",
       "      <th>Part</th>\n",
       "      <th>Part Title</th>\n",
       "    </tr>\n",
       "  </thead>\n",
       "  <tbody>\n",
       "    <tr>\n",
       "      <th>488</th>\n",
       "      <td>388</td>\n",
       "      <td>Provisions as to the filling of casual vacanci...</td>\n",
       "      <td>PART XXI</td>\n",
       "      <td>TEMPORARY, TRANSITIONAL AND   SPECIAL PROVISIONS</td>\n",
       "    </tr>\n",
       "    <tr>\n",
       "      <th>489</th>\n",
       "      <td>389</td>\n",
       "      <td>Provision as to Bills pending in the Dominion ...</td>\n",
       "      <td>PART XXI</td>\n",
       "      <td>TEMPORARY, TRANSITIONAL AND   SPECIAL PROVISIONS</td>\n",
       "    </tr>\n",
       "    <tr>\n",
       "      <th>490</th>\n",
       "      <td>390</td>\n",
       "      <td>Money received or raised or expenditure incurr...</td>\n",
       "      <td>PART XXI</td>\n",
       "      <td>TEMPORARY, TRANSITIONAL AND   SPECIAL PROVISIONS</td>\n",
       "    </tr>\n",
       "    <tr>\n",
       "      <th>491</th>\n",
       "      <td>1950</td>\n",
       "      <td>Omitted.]</td>\n",
       "      <td>PART XXI</td>\n",
       "      <td>TEMPORARY, TRANSITIONAL AND   SPECIAL PROVISIONS</td>\n",
       "    </tr>\n",
       "    <tr>\n",
       "      <th>492</th>\n",
       "      <td>391</td>\n",
       "      <td>Power of the President to amend the First and ...</td>\n",
       "      <td>PART XXI</td>\n",
       "      <td>TEMPORARY, TRANSITIONAL AND   SPECIAL PROVISIONS</td>\n",
       "    </tr>\n",
       "    <tr>\n",
       "      <th>493</th>\n",
       "      <td>392</td>\n",
       "      <td>Power of the President to remove difficulties.</td>\n",
       "      <td>PART XXI</td>\n",
       "      <td>TEMPORARY, TRANSITIONAL AND   SPECIAL PROVISIONS</td>\n",
       "    </tr>\n",
       "    <tr>\n",
       "      <th>494</th>\n",
       "      <td>393</td>\n",
       "      <td>Short title.</td>\n",
       "      <td>PART XXII</td>\n",
       "      <td>SHORT TITLE, COMMENCEMENT,  AUTHORITATIVE TEXT...</td>\n",
       "    </tr>\n",
       "    <tr>\n",
       "      <th>495</th>\n",
       "      <td>394</td>\n",
       "      <td>Commencement.</td>\n",
       "      <td>PART XXII</td>\n",
       "      <td>SHORT TITLE, COMMENCEMENT,  AUTHORITATIVE TEXT...</td>\n",
       "    </tr>\n",
       "    <tr>\n",
       "      <th>496</th>\n",
       "      <td>394A</td>\n",
       "      <td>Authoritative text in the Hindi language.</td>\n",
       "      <td>PART XXII</td>\n",
       "      <td>SHORT TITLE, COMMENCEMENT,  AUTHORITATIVE TEXT...</td>\n",
       "    </tr>\n",
       "    <tr>\n",
       "      <th>497</th>\n",
       "      <td>395</td>\n",
       "      <td>Repeals.</td>\n",
       "      <td>PART XXII</td>\n",
       "      <td>SHORT TITLE, COMMENCEMENT,  AUTHORITATIVE TEXT...</td>\n",
       "    </tr>\n",
       "  </tbody>\n",
       "</table>\n",
       "</div>"
      ],
      "text/plain": [
       "    Article Number                                      Article Title  \\\n",
       "488            388  Provisions as to the filling of casual vacanci...   \n",
       "489            389  Provision as to Bills pending in the Dominion ...   \n",
       "490            390  Money received or raised or expenditure incurr...   \n",
       "491           1950                                          Omitted.]   \n",
       "492            391  Power of the President to amend the First and ...   \n",
       "493            392     Power of the President to remove difficulties.   \n",
       "494            393                                       Short title.   \n",
       "495            394                                      Commencement.   \n",
       "496           394A          Authoritative text in the Hindi language.   \n",
       "497            395                                           Repeals.   \n",
       "\n",
       "          Part                                         Part Title  \n",
       "488   PART XXI   TEMPORARY, TRANSITIONAL AND   SPECIAL PROVISIONS  \n",
       "489   PART XXI   TEMPORARY, TRANSITIONAL AND   SPECIAL PROVISIONS  \n",
       "490   PART XXI   TEMPORARY, TRANSITIONAL AND   SPECIAL PROVISIONS  \n",
       "491   PART XXI   TEMPORARY, TRANSITIONAL AND   SPECIAL PROVISIONS  \n",
       "492   PART XXI   TEMPORARY, TRANSITIONAL AND   SPECIAL PROVISIONS  \n",
       "493   PART XXI   TEMPORARY, TRANSITIONAL AND   SPECIAL PROVISIONS  \n",
       "494  PART XXII  SHORT TITLE, COMMENCEMENT,  AUTHORITATIVE TEXT...  \n",
       "495  PART XXII  SHORT TITLE, COMMENCEMENT,  AUTHORITATIVE TEXT...  \n",
       "496  PART XXII  SHORT TITLE, COMMENCEMENT,  AUTHORITATIVE TEXT...  \n",
       "497  PART XXII  SHORT TITLE, COMMENCEMENT,  AUTHORITATIVE TEXT...  "
      ]
     },
     "execution_count": 16,
     "metadata": {},
     "output_type": "execute_result"
    }
   ],
   "source": [
    "articles_data_df.tail(10)"
   ]
  },
  {
   "cell_type": "code",
   "execution_count": 17,
   "metadata": {},
   "outputs": [],
   "source": [
    "articles_data_df.to_csv('data/article_titles.csv')"
   ]
  },
  {
   "cell_type": "markdown",
   "metadata": {},
   "source": [
    "#### TODO: Extracting Articles Content from Page 33-?"
   ]
  },
  {
   "cell_type": "code",
   "execution_count": 18,
   "metadata": {},
   "outputs": [],
   "source": [
    "# with open(file_path, \"rb\") as pdf_file:\n",
    "#     pdf_reader = PyPDF2.PdfReader(pdf_file)\n",
    "#     total_pages = len(pdf_reader.pages)\n",
    "        \n",
    "#     for page_i in tqdm(range(total_pages)):\n",
    "#         page = pdf_reader.pages[page_i+2]\n",
    "#         text = page.extract_text()\n",
    "#         print(text)\n",
    "#         break"
   ]
  }
 ],
 "metadata": {
  "kernelspec": {
   "display_name": "textgen",
   "language": "python",
   "name": "python3"
  },
  "language_info": {
   "codemirror_mode": {
    "name": "ipython",
    "version": 3
   },
   "file_extension": ".py",
   "mimetype": "text/x-python",
   "name": "python",
   "nbconvert_exporter": "python",
   "pygments_lexer": "ipython3",
   "version": "3.8.16"
  },
  "orig_nbformat": 4
 },
 "nbformat": 4,
 "nbformat_minor": 2
}
