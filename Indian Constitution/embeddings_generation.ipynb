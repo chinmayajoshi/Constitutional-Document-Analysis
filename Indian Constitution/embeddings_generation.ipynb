{
 "cells": [
  {
   "cell_type": "code",
   "execution_count": 56,
   "metadata": {},
   "outputs": [],
   "source": [
    "import os \n",
    "import pandas as pd\n",
    "from  actual_secret_key import openai_api_key\n",
    "# from secret_key import openai_api_key \n",
    "from tqdm.notebook import tqdm\n",
    "tqdm.pandas()\n",
    "from langchain.embeddings import OpenAIEmbeddings"
   ]
  },
  {
   "cell_type": "code",
   "execution_count": 2,
   "metadata": {},
   "outputs": [],
   "source": [
    "os.environ['OPENAI_API_KEY'] = openai_api_key"
   ]
  },
  {
   "cell_type": "code",
   "execution_count": 3,
   "metadata": {},
   "outputs": [],
   "source": [
    "embeddings_generator = OpenAIEmbeddings()"
   ]
  },
  {
   "cell_type": "code",
   "execution_count": 4,
   "metadata": {},
   "outputs": [
    {
     "data": {
      "text/plain": [
       "'text-embedding-ada-002'"
      ]
     },
     "execution_count": 4,
     "metadata": {},
     "output_type": "execute_result"
    }
   ],
   "source": [
    "embeddings_generator.model"
   ]
  },
  {
   "cell_type": "markdown",
   "metadata": {},
   "source": [
    "OpenAI Model [text-embedding-ada-002](https://platform.openai.com/docs/models/embeddings) selected for good Clustering score on [Massive Text Embedding Benchmark (MTEB)](https://huggingface.co/spaces/mteb/leaderboard)."
   ]
  },
  {
   "cell_type": "code",
   "execution_count": 5,
   "metadata": {},
   "outputs": [
    {
     "data": {
      "text/html": [
       "<div>\n",
       "<style scoped>\n",
       "    .dataframe tbody tr th:only-of-type {\n",
       "        vertical-align: middle;\n",
       "    }\n",
       "\n",
       "    .dataframe tbody tr th {\n",
       "        vertical-align: top;\n",
       "    }\n",
       "\n",
       "    .dataframe thead th {\n",
       "        text-align: right;\n",
       "    }\n",
       "</style>\n",
       "<table border=\"1\" class=\"dataframe\">\n",
       "  <thead>\n",
       "    <tr style=\"text-align: right;\">\n",
       "      <th></th>\n",
       "      <th>Unnamed: 0</th>\n",
       "      <th>Article Number</th>\n",
       "      <th>Article Title</th>\n",
       "      <th>Part</th>\n",
       "      <th>Part Title</th>\n",
       "    </tr>\n",
       "  </thead>\n",
       "  <tbody>\n",
       "    <tr>\n",
       "      <th>0</th>\n",
       "      <td>0</td>\n",
       "      <td>1</td>\n",
       "      <td>Name and territory of the Union.</td>\n",
       "      <td>PART I</td>\n",
       "      <td>THE UNION AND ITS TERRITORY  ARTICLES</td>\n",
       "    </tr>\n",
       "    <tr>\n",
       "      <th>1</th>\n",
       "      <td>1</td>\n",
       "      <td>2</td>\n",
       "      <td>Admission or establishment of new States.  [</td>\n",
       "      <td>PART I</td>\n",
       "      <td>THE UNION AND ITS TERRITORY  ARTICLES</td>\n",
       "    </tr>\n",
       "    <tr>\n",
       "      <th>2</th>\n",
       "      <td>2</td>\n",
       "      <td>2A</td>\n",
       "      <td>Sikkim to be associated with the Union. —Omitt...</td>\n",
       "      <td>PART I</td>\n",
       "      <td>THE UNION AND ITS TERRITORY  ARTICLES</td>\n",
       "    </tr>\n",
       "    <tr>\n",
       "      <th>3</th>\n",
       "      <td>3</td>\n",
       "      <td>3</td>\n",
       "      <td>Formation of new States and alteration of area...</td>\n",
       "      <td>PART I</td>\n",
       "      <td>THE UNION AND ITS TERRITORY  ARTICLES</td>\n",
       "    </tr>\n",
       "    <tr>\n",
       "      <th>4</th>\n",
       "      <td>4</td>\n",
       "      <td>4</td>\n",
       "      <td>Laws made under articles 2 and 3 to provide fo...</td>\n",
       "      <td>PART I</td>\n",
       "      <td>THE UNION AND ITS TERRITORY  ARTICLES</td>\n",
       "    </tr>\n",
       "  </tbody>\n",
       "</table>\n",
       "</div>"
      ],
      "text/plain": [
       "   Unnamed: 0 Article Number  \\\n",
       "0           0              1   \n",
       "1           1              2   \n",
       "2           2             2A   \n",
       "3           3              3   \n",
       "4           4              4   \n",
       "\n",
       "                                       Article Title    Part  \\\n",
       "0                   Name and territory of the Union.  PART I   \n",
       "1       Admission or establishment of new States.  [  PART I   \n",
       "2  Sikkim to be associated with the Union. —Omitt...  PART I   \n",
       "3  Formation of new States and alteration of area...  PART I   \n",
       "4  Laws made under articles 2 and 3 to provide fo...  PART I   \n",
       "\n",
       "                              Part Title  \n",
       "0  THE UNION AND ITS TERRITORY  ARTICLES  \n",
       "1  THE UNION AND ITS TERRITORY  ARTICLES  \n",
       "2  THE UNION AND ITS TERRITORY  ARTICLES  \n",
       "3  THE UNION AND ITS TERRITORY  ARTICLES  \n",
       "4  THE UNION AND ITS TERRITORY  ARTICLES  "
      ]
     },
     "execution_count": 5,
     "metadata": {},
     "output_type": "execute_result"
    }
   ],
   "source": [
    "articles_df = pd.read_csv('data/article_titles.csv')\n",
    "articles_df.head()"
   ]
  },
  {
   "cell_type": "code",
   "execution_count": 69,
   "metadata": {},
   "outputs": [
    {
     "name": "stdout",
     "output_type": "stream",
     "text": [
      "Sample Text: 309    Application to multi-State co-operative societ...\n",
      "Name: Article Title, dtype: object\n",
      "Embedding Vector Length: 1536\n"
     ]
    }
   ],
   "source": [
    "sample = str(articles_df['Article Title'].sample(1))\n",
    "text_embd =  embeddings_generator.embed_query(sample)\n",
    "print(f\"Sample Text: {sample}\\nEmbedding Vector Length: {len(text_embd)}\")"
   ]
  },
  {
   "cell_type": "code",
   "execution_count": 11,
   "metadata": {},
   "outputs": [
    {
     "data": {
      "text/html": [
       "<div>\n",
       "<style scoped>\n",
       "    .dataframe tbody tr th:only-of-type {\n",
       "        vertical-align: middle;\n",
       "    }\n",
       "\n",
       "    .dataframe tbody tr th {\n",
       "        vertical-align: top;\n",
       "    }\n",
       "\n",
       "    .dataframe thead th {\n",
       "        text-align: right;\n",
       "    }\n",
       "</style>\n",
       "<table border=\"1\" class=\"dataframe\">\n",
       "  <thead>\n",
       "    <tr style=\"text-align: right;\">\n",
       "      <th></th>\n",
       "      <th>Unnamed: 0</th>\n",
       "      <th>Article Number</th>\n",
       "      <th>Article Title</th>\n",
       "      <th>Part</th>\n",
       "      <th>Part Title</th>\n",
       "    </tr>\n",
       "  </thead>\n",
       "  <tbody>\n",
       "    <tr>\n",
       "      <th>0</th>\n",
       "      <td>0</td>\n",
       "      <td>1</td>\n",
       "      <td>Name and territory of the Union.</td>\n",
       "      <td>PART I</td>\n",
       "      <td>THE UNION AND ITS TERRITORY  ARTICLES</td>\n",
       "    </tr>\n",
       "    <tr>\n",
       "      <th>1</th>\n",
       "      <td>1</td>\n",
       "      <td>2</td>\n",
       "      <td>Admission or establishment of new States.  [</td>\n",
       "      <td>PART I</td>\n",
       "      <td>THE UNION AND ITS TERRITORY  ARTICLES</td>\n",
       "    </tr>\n",
       "    <tr>\n",
       "      <th>2</th>\n",
       "      <td>2</td>\n",
       "      <td>2A</td>\n",
       "      <td>Sikkim to be associated with the Union. —Omitt...</td>\n",
       "      <td>PART I</td>\n",
       "      <td>THE UNION AND ITS TERRITORY  ARTICLES</td>\n",
       "    </tr>\n",
       "    <tr>\n",
       "      <th>3</th>\n",
       "      <td>3</td>\n",
       "      <td>3</td>\n",
       "      <td>Formation of new States and alteration of area...</td>\n",
       "      <td>PART I</td>\n",
       "      <td>THE UNION AND ITS TERRITORY  ARTICLES</td>\n",
       "    </tr>\n",
       "    <tr>\n",
       "      <th>4</th>\n",
       "      <td>4</td>\n",
       "      <td>4</td>\n",
       "      <td>Laws made under articles 2 and 3 to provide fo...</td>\n",
       "      <td>PART I</td>\n",
       "      <td>THE UNION AND ITS TERRITORY  ARTICLES</td>\n",
       "    </tr>\n",
       "  </tbody>\n",
       "</table>\n",
       "</div>"
      ],
      "text/plain": [
       "   Unnamed: 0 Article Number  \\\n",
       "0           0              1   \n",
       "1           1              2   \n",
       "2           2             2A   \n",
       "3           3              3   \n",
       "4           4              4   \n",
       "\n",
       "                                       Article Title    Part  \\\n",
       "0                   Name and territory of the Union.  PART I   \n",
       "1       Admission or establishment of new States.  [  PART I   \n",
       "2  Sikkim to be associated with the Union. —Omitt...  PART I   \n",
       "3  Formation of new States and alteration of area...  PART I   \n",
       "4  Laws made under articles 2 and 3 to provide fo...  PART I   \n",
       "\n",
       "                              Part Title  \n",
       "0  THE UNION AND ITS TERRITORY  ARTICLES  \n",
       "1  THE UNION AND ITS TERRITORY  ARTICLES  \n",
       "2  THE UNION AND ITS TERRITORY  ARTICLES  \n",
       "3  THE UNION AND ITS TERRITORY  ARTICLES  \n",
       "4  THE UNION AND ITS TERRITORY  ARTICLES  "
      ]
     },
     "execution_count": 11,
     "metadata": {},
     "output_type": "execute_result"
    }
   ],
   "source": [
    "articles_df.head()"
   ]
  },
  {
   "cell_type": "code",
   "execution_count": 54,
   "metadata": {},
   "outputs": [
    {
     "name": "stderr",
     "output_type": "stream",
     "text": [
      "100%|██████████| 498/498 [00:00<00:00, 238035.71it/s]\n"
     ]
    }
   ],
   "source": [
    "articles_df = articles_df.assign(article_title_word_count = lambda x: x['Article Title'].astype(str).progress_apply(lambda x: len(x.split())))"
   ]
  },
  {
   "cell_type": "code",
   "execution_count": 34,
   "metadata": {},
   "outputs": [
    {
     "data": {
      "text/html": [
       "<div>\n",
       "<style scoped>\n",
       "    .dataframe tbody tr th:only-of-type {\n",
       "        vertical-align: middle;\n",
       "    }\n",
       "\n",
       "    .dataframe tbody tr th {\n",
       "        vertical-align: top;\n",
       "    }\n",
       "\n",
       "    .dataframe thead th {\n",
       "        text-align: right;\n",
       "    }\n",
       "</style>\n",
       "<table border=\"1\" class=\"dataframe\">\n",
       "  <thead>\n",
       "    <tr style=\"text-align: right;\">\n",
       "      <th></th>\n",
       "      <th>Unnamed: 0</th>\n",
       "      <th>Article Number</th>\n",
       "      <th>Article Title</th>\n",
       "      <th>Part</th>\n",
       "      <th>Part Title</th>\n",
       "      <th>article_title_word_count</th>\n",
       "    </tr>\n",
       "  </thead>\n",
       "  <tbody>\n",
       "    <tr>\n",
       "      <th>0</th>\n",
       "      <td>0</td>\n",
       "      <td>1</td>\n",
       "      <td>Name and territory of the Union.</td>\n",
       "      <td>PART I</td>\n",
       "      <td>THE UNION AND ITS TERRITORY  ARTICLES</td>\n",
       "      <td>6</td>\n",
       "    </tr>\n",
       "    <tr>\n",
       "      <th>1</th>\n",
       "      <td>1</td>\n",
       "      <td>2</td>\n",
       "      <td>Admission or establishment of new States.  [</td>\n",
       "      <td>PART I</td>\n",
       "      <td>THE UNION AND ITS TERRITORY  ARTICLES</td>\n",
       "      <td>7</td>\n",
       "    </tr>\n",
       "    <tr>\n",
       "      <th>2</th>\n",
       "      <td>2</td>\n",
       "      <td>2A</td>\n",
       "      <td>Sikkim to be associated with the Union. —Omitt...</td>\n",
       "      <td>PART I</td>\n",
       "      <td>THE UNION AND ITS TERRITORY  ARTICLES</td>\n",
       "      <td>8</td>\n",
       "    </tr>\n",
       "    <tr>\n",
       "      <th>3</th>\n",
       "      <td>3</td>\n",
       "      <td>3</td>\n",
       "      <td>Formation of new States and alteration of area...</td>\n",
       "      <td>PART I</td>\n",
       "      <td>THE UNION AND ITS TERRITORY  ARTICLES</td>\n",
       "      <td>14</td>\n",
       "    </tr>\n",
       "    <tr>\n",
       "      <th>4</th>\n",
       "      <td>4</td>\n",
       "      <td>4</td>\n",
       "      <td>Laws made under articles 2 and 3 to provide fo...</td>\n",
       "      <td>PART I</td>\n",
       "      <td>THE UNION AND ITS TERRITORY  ARTICLES</td>\n",
       "      <td>25</td>\n",
       "    </tr>\n",
       "  </tbody>\n",
       "</table>\n",
       "</div>"
      ],
      "text/plain": [
       "   Unnamed: 0 Article Number  \\\n",
       "0           0              1   \n",
       "1           1              2   \n",
       "2           2             2A   \n",
       "3           3              3   \n",
       "4           4              4   \n",
       "\n",
       "                                       Article Title    Part  \\\n",
       "0                   Name and territory of the Union.  PART I   \n",
       "1       Admission or establishment of new States.  [  PART I   \n",
       "2  Sikkim to be associated with the Union. —Omitt...  PART I   \n",
       "3  Formation of new States and alteration of area...  PART I   \n",
       "4  Laws made under articles 2 and 3 to provide fo...  PART I   \n",
       "\n",
       "                              Part Title  article_title_word_count  \n",
       "0  THE UNION AND ITS TERRITORY  ARTICLES                         6  \n",
       "1  THE UNION AND ITS TERRITORY  ARTICLES                         7  \n",
       "2  THE UNION AND ITS TERRITORY  ARTICLES                         8  \n",
       "3  THE UNION AND ITS TERRITORY  ARTICLES                        14  \n",
       "4  THE UNION AND ITS TERRITORY  ARTICLES                        25  "
      ]
     },
     "execution_count": 34,
     "metadata": {},
     "output_type": "execute_result"
    }
   ],
   "source": [
    "articles_df.head()"
   ]
  },
  {
   "cell_type": "code",
   "execution_count": 57,
   "metadata": {},
   "outputs": [
    {
     "data": {
      "application/vnd.jupyter.widget-view+json": {
       "model_id": "5ff8d80eaa954f20b99367f2f19a8a2a",
       "version_major": 2,
       "version_minor": 0
      },
      "text/plain": [
       "  0%|          | 0/498 [00:00<?, ?it/s]"
      ]
     },
     "metadata": {},
     "output_type": "display_data"
    },
    {
     "name": "stderr",
     "output_type": "stream",
     "text": [
      "Retrying langchain.embeddings.openai.embed_with_retry.<locals>._embed_with_retry in 4.0 seconds as it raised APIError: The server had an error while processing your request. Sorry about that! You can retry your request, or contact us through our help center at help.openai.com if the error persists. (Please include the request ID bd81cd9d2829ef9b4f6b4664578e1515 in your message.) {\n",
      "  \"error\": {\n",
      "    \"message\": \"The server had an error while processing your request. Sorry about that! You can retry your request, or contact us through our help center at help.openai.com if the error persists. (Please include the request ID bd81cd9d2829ef9b4f6b4664578e1515 in your message.)\",\n",
      "    \"type\": \"server_error\",\n",
      "    \"param\": null,\n",
      "    \"code\": null\n",
      "  }\n",
      "}\n",
      " 500 {'error': {'message': 'The server had an error while processing your request. Sorry about that! You can retry your request, or contact us through our help center at help.openai.com if the error persists. (Please include the request ID bd81cd9d2829ef9b4f6b4664578e1515 in your message.)', 'type': 'server_error', 'param': None, 'code': None}} {'Date': 'Wed, 25 Oct 2023 12:19:27 GMT', 'Content-Type': 'application/json', 'Content-Length': '366', 'Connection': 'keep-alive', 'access-control-allow-origin': '*', 'openai-organization': 'user-sx4zp7ofhyvlenplsti4ajy8', 'openai-processing-ms': '30009', 'openai-version': '2020-10-01', 'strict-transport-security': 'max-age=15724800; includeSubDomains', 'x-ratelimit-limit-requests': '3000', 'x-ratelimit-limit-tokens': '1000000', 'x-ratelimit-remaining-requests': '2999', 'x-ratelimit-remaining-tokens': '999985', 'x-ratelimit-reset-requests': '20ms', 'x-ratelimit-reset-tokens': '0s', 'x-request-id': 'bd81cd9d2829ef9b4f6b4664578e1515', 'CF-Cache-Status': 'DYNAMIC', 'Server': 'cloudflare', 'CF-RAY': '81ba67b35cf531b1-BOM', 'alt-svc': 'h3=\":443\"; ma=86400'}.\n",
      "Retrying langchain.embeddings.openai.embed_with_retry.<locals>._embed_with_retry in 4.0 seconds as it raised APIError: The server had an error while processing your request. Sorry about that! You can retry your request, or contact us through our help center at help.openai.com if the error persists. (Please include the request ID b3b5ba4dae1bdcaf579bdfaafce89d6e in your message.) {\n",
      "  \"error\": {\n",
      "    \"message\": \"The server had an error while processing your request. Sorry about that! You can retry your request, or contact us through our help center at help.openai.com if the error persists. (Please include the request ID b3b5ba4dae1bdcaf579bdfaafce89d6e in your message.)\",\n",
      "    \"type\": \"server_error\",\n",
      "    \"param\": null,\n",
      "    \"code\": null\n",
      "  }\n",
      "}\n",
      " 500 {'error': {'message': 'The server had an error while processing your request. Sorry about that! You can retry your request, or contact us through our help center at help.openai.com if the error persists. (Please include the request ID b3b5ba4dae1bdcaf579bdfaafce89d6e in your message.)', 'type': 'server_error', 'param': None, 'code': None}} {'Date': 'Wed, 25 Oct 2023 12:20:25 GMT', 'Content-Type': 'application/json', 'Content-Length': '366', 'Connection': 'keep-alive', 'access-control-allow-origin': '*', 'openai-organization': 'user-sx4zp7ofhyvlenplsti4ajy8', 'openai-processing-ms': '30009', 'openai-version': '2020-10-01', 'strict-transport-security': 'max-age=15724800; includeSubDomains', 'x-ratelimit-limit-requests': '3000', 'x-ratelimit-limit-tokens': '1000000', 'x-ratelimit-remaining-requests': '2999', 'x-ratelimit-remaining-tokens': '999969', 'x-ratelimit-reset-requests': '20ms', 'x-ratelimit-reset-tokens': '1ms', 'x-request-id': 'b3b5ba4dae1bdcaf579bdfaafce89d6e', 'CF-Cache-Status': 'DYNAMIC', 'Server': 'cloudflare', 'CF-RAY': '81ba691d4a8231b1-BOM', 'alt-svc': 'h3=\":443\"; ma=86400'}.\n",
      "Retrying langchain.embeddings.openai.embed_with_retry.<locals>._embed_with_retry in 4.0 seconds as it raised APIError: The server had an error while processing your request. Sorry about that! You can retry your request, or contact us through our help center at help.openai.com if the error persists. (Please include the request ID f20536227de3125e61b45a18f45c1986 in your message.) {\n",
      "  \"error\": {\n",
      "    \"message\": \"The server had an error while processing your request. Sorry about that! You can retry your request, or contact us through our help center at help.openai.com if the error persists. (Please include the request ID f20536227de3125e61b45a18f45c1986 in your message.)\",\n",
      "    \"type\": \"server_error\",\n",
      "    \"param\": null,\n",
      "    \"code\": null\n",
      "  }\n",
      "}\n",
      " 500 {'error': {'message': 'The server had an error while processing your request. Sorry about that! You can retry your request, or contact us through our help center at help.openai.com if the error persists. (Please include the request ID f20536227de3125e61b45a18f45c1986 in your message.)', 'type': 'server_error', 'param': None, 'code': None}} {'Date': 'Wed, 25 Oct 2023 12:21:47 GMT', 'Content-Type': 'application/json', 'Content-Length': '366', 'Connection': 'keep-alive', 'access-control-allow-origin': '*', 'openai-organization': 'user-sx4zp7ofhyvlenplsti4ajy8', 'openai-processing-ms': '30008', 'openai-version': '2020-10-01', 'strict-transport-security': 'max-age=15724800; includeSubDomains', 'x-ratelimit-limit-requests': '3000', 'x-ratelimit-limit-tokens': '1000000', 'x-ratelimit-remaining-requests': '2999', 'x-ratelimit-remaining-tokens': '999989', 'x-ratelimit-reset-requests': '20ms', 'x-ratelimit-reset-tokens': '0s', 'x-request-id': 'f20536227de3125e61b45a18f45c1986', 'CF-Cache-Status': 'DYNAMIC', 'Server': 'cloudflare', 'CF-RAY': '81ba6b1d7ed231b1-BOM', 'alt-svc': 'h3=\":443\"; ma=86400'}.\n",
      "Retrying langchain.embeddings.openai.embed_with_retry.<locals>._embed_with_retry in 4.0 seconds as it raised APIError: The server had an error while processing your request. Sorry about that! You can retry your request, or contact us through our help center at help.openai.com if the error persists. (Please include the request ID 4e5e51fdfe20dbd29e550dc6a5fab3a5 in your message.) {\n",
      "  \"error\": {\n",
      "    \"message\": \"The server had an error while processing your request. Sorry about that! You can retry your request, or contact us through our help center at help.openai.com if the error persists. (Please include the request ID 4e5e51fdfe20dbd29e550dc6a5fab3a5 in your message.)\",\n",
      "    \"type\": \"server_error\",\n",
      "    \"param\": null,\n",
      "    \"code\": null\n",
      "  }\n",
      "}\n",
      " 500 {'error': {'message': 'The server had an error while processing your request. Sorry about that! You can retry your request, or contact us through our help center at help.openai.com if the error persists. (Please include the request ID 4e5e51fdfe20dbd29e550dc6a5fab3a5 in your message.)', 'type': 'server_error', 'param': None, 'code': None}} {'Date': 'Wed, 25 Oct 2023 12:22:35 GMT', 'Content-Type': 'application/json', 'Content-Length': '366', 'Connection': 'keep-alive', 'access-control-allow-origin': '*', 'openai-organization': 'user-sx4zp7ofhyvlenplsti4ajy8', 'openai-processing-ms': '30008', 'openai-version': '2020-10-01', 'strict-transport-security': 'max-age=15724800; includeSubDomains', 'x-ratelimit-limit-requests': '3000', 'x-ratelimit-limit-tokens': '1000000', 'x-ratelimit-remaining-requests': '2999', 'x-ratelimit-remaining-tokens': '999989', 'x-ratelimit-reset-requests': '20ms', 'x-ratelimit-reset-tokens': '0s', 'x-request-id': '4e5e51fdfe20dbd29e550dc6a5fab3a5', 'CF-Cache-Status': 'DYNAMIC', 'Server': 'cloudflare', 'CF-RAY': '81ba6c4c290085e5-BOM', 'alt-svc': 'h3=\":443\"; ma=86400'}.\n",
      "Retrying langchain.embeddings.openai.embed_with_retry.<locals>._embed_with_retry in 4.0 seconds as it raised APIError: The server had an error while processing your request. Sorry about that! You can retry your request, or contact us through our help center at help.openai.com if the error persists. (Please include the request ID b5c1585c33593ef74865cd535cb99e04 in your message.) {\n",
      "  \"error\": {\n",
      "    \"message\": \"The server had an error while processing your request. Sorry about that! You can retry your request, or contact us through our help center at help.openai.com if the error persists. (Please include the request ID b5c1585c33593ef74865cd535cb99e04 in your message.)\",\n",
      "    \"type\": \"server_error\",\n",
      "    \"param\": null,\n",
      "    \"code\": null\n",
      "  }\n",
      "}\n",
      " 500 {'error': {'message': 'The server had an error while processing your request. Sorry about that! You can retry your request, or contact us through our help center at help.openai.com if the error persists. (Please include the request ID b5c1585c33593ef74865cd535cb99e04 in your message.)', 'type': 'server_error', 'param': None, 'code': None}} {'Date': 'Wed, 25 Oct 2023 12:24:06 GMT', 'Content-Type': 'application/json', 'Content-Length': '366', 'Connection': 'keep-alive', 'access-control-allow-origin': '*', 'openai-organization': 'user-sx4zp7ofhyvlenplsti4ajy8', 'openai-processing-ms': '30028', 'openai-version': '2020-10-01', 'strict-transport-security': 'max-age=15724800; includeSubDomains', 'x-request-id': 'b5c1585c33593ef74865cd535cb99e04', 'CF-Cache-Status': 'DYNAMIC', 'Server': 'cloudflare', 'CF-RAY': '81ba6e84ca6a85e5-BOM', 'alt-svc': 'h3=\":443\"; ma=86400'}.\n",
      "Retrying langchain.embeddings.openai.embed_with_retry.<locals>._embed_with_retry in 4.0 seconds as it raised APIError: The server had an error while processing your request. Sorry about that! You can retry your request, or contact us through our help center at help.openai.com if the error persists. (Please include the request ID 7f6ae1b4a6746b5b325ea574c5ed027e in your message.) {\n",
      "  \"error\": {\n",
      "    \"message\": \"The server had an error while processing your request. Sorry about that! You can retry your request, or contact us through our help center at help.openai.com if the error persists. (Please include the request ID 7f6ae1b4a6746b5b325ea574c5ed027e in your message.)\",\n",
      "    \"type\": \"server_error\",\n",
      "    \"param\": null,\n",
      "    \"code\": null\n",
      "  }\n",
      "}\n",
      " 500 {'error': {'message': 'The server had an error while processing your request. Sorry about that! You can retry your request, or contact us through our help center at help.openai.com if the error persists. (Please include the request ID 7f6ae1b4a6746b5b325ea574c5ed027e in your message.)', 'type': 'server_error', 'param': None, 'code': None}} {'Date': 'Wed, 25 Oct 2023 12:24:49 GMT', 'Content-Type': 'application/json', 'Content-Length': '366', 'Connection': 'keep-alive', 'access-control-allow-origin': '*', 'openai-organization': 'user-sx4zp7ofhyvlenplsti4ajy8', 'openai-processing-ms': '30009', 'openai-version': '2020-10-01', 'strict-transport-security': 'max-age=15724800; includeSubDomains', 'x-ratelimit-limit-requests': '3000', 'x-ratelimit-limit-tokens': '1000000', 'x-ratelimit-remaining-requests': '2999', 'x-ratelimit-remaining-tokens': '999982', 'x-ratelimit-reset-requests': '20ms', 'x-ratelimit-reset-tokens': '1ms', 'x-request-id': '7f6ae1b4a6746b5b325ea574c5ed027e', 'CF-Cache-Status': 'DYNAMIC', 'Server': 'cloudflare', 'CF-RAY': '81ba6f90df2285e5-BOM', 'alt-svc': 'h3=\":443\"; ma=86400'}.\n"
     ]
    },
    {
     "name": "stdout",
     "output_type": "stream",
     "text": [
      "CPU times: total: 141 ms\n",
      "Wall time: 6min 40s\n"
     ]
    }
   ],
   "source": [
    "%%time\n",
    "articles_df = articles_df.assign(article_title_embeddings = lambda x: x['Article Title'].astype(str).progress_apply(embeddings_generator.embed_query))"
   ]
  },
  {
   "cell_type": "code",
   "execution_count": 60,
   "metadata": {},
   "outputs": [
    {
     "data": {
      "text/plain": [
       "(498, 7)"
      ]
     },
     "execution_count": 60,
     "metadata": {},
     "output_type": "execute_result"
    }
   ],
   "source": [
    "articles_df.shape"
   ]
  },
  {
   "cell_type": "code",
   "execution_count": 66,
   "metadata": {},
   "outputs": [],
   "source": [
    "articles_df.drop(articles_df.columns[0], axis=1).to_csv('data/article_title_1kembeddings.csv', header=False)"
   ]
  }
 ],
 "metadata": {
  "kernelspec": {
   "display_name": "nlp",
   "language": "python",
   "name": "python3"
  },
  "language_info": {
   "codemirror_mode": {
    "name": "ipython",
    "version": 3
   },
   "file_extension": ".py",
   "mimetype": "text/x-python",
   "name": "python",
   "nbconvert_exporter": "python",
   "pygments_lexer": "ipython3",
   "version": "3.8.16"
  },
  "orig_nbformat": 4
 },
 "nbformat": 4,
 "nbformat_minor": 2
}
