{
 "cells": [
  {
   "cell_type": "code",
   "execution_count": 1,
   "metadata": {},
   "outputs": [],
   "source": [
    "import os \n",
    "import pandas as pd\n",
    "from  actual_secret_key import openai_api_key\n",
    "# from secret_key import openai_api_key \n",
    "from langchain.embeddings import OpenAIEmbeddings"
   ]
  },
  {
   "cell_type": "code",
   "execution_count": 2,
   "metadata": {},
   "outputs": [],
   "source": [
    "os.environ['OPENAI_API_KEY'] = openai_api_key"
   ]
  },
  {
   "cell_type": "code",
   "execution_count": 3,
   "metadata": {},
   "outputs": [],
   "source": [
    "embeddings_generator = OpenAIEmbeddings()"
   ]
  },
  {
   "cell_type": "code",
   "execution_count": 4,
   "metadata": {},
   "outputs": [
    {
     "data": {
      "text/plain": [
       "'text-embedding-ada-002'"
      ]
     },
     "execution_count": 4,
     "metadata": {},
     "output_type": "execute_result"
    }
   ],
   "source": [
    "embeddings_generator.model"
   ]
  },
  {
   "cell_type": "markdown",
   "metadata": {},
   "source": [
    "OpenAI Model [text-embedding-ada-002](https://platform.openai.com/docs/models/embeddings) selected for good Clustering score on [Massive Text Embedding Benchmark (MTEB)](https://huggingface.co/spaces/mteb/leaderboard)."
   ]
  },
  {
   "cell_type": "code",
   "execution_count": 6,
   "metadata": {},
   "outputs": [
    {
     "data": {
      "text/html": [
       "<div>\n",
       "<style scoped>\n",
       "    .dataframe tbody tr th:only-of-type {\n",
       "        vertical-align: middle;\n",
       "    }\n",
       "\n",
       "    .dataframe tbody tr th {\n",
       "        vertical-align: top;\n",
       "    }\n",
       "\n",
       "    .dataframe thead th {\n",
       "        text-align: right;\n",
       "    }\n",
       "</style>\n",
       "<table border=\"1\" class=\"dataframe\">\n",
       "  <thead>\n",
       "    <tr style=\"text-align: right;\">\n",
       "      <th></th>\n",
       "      <th>Unnamed: 0</th>\n",
       "      <th>Article Number</th>\n",
       "      <th>Article Title</th>\n",
       "      <th>Part</th>\n",
       "      <th>Part Title</th>\n",
       "    </tr>\n",
       "  </thead>\n",
       "  <tbody>\n",
       "    <tr>\n",
       "      <th>0</th>\n",
       "      <td>0</td>\n",
       "      <td>1</td>\n",
       "      <td>Name and territory of the Union.</td>\n",
       "      <td>PART I</td>\n",
       "      <td>THE UNION AND ITS TERRITORY  ARTICLES</td>\n",
       "    </tr>\n",
       "    <tr>\n",
       "      <th>1</th>\n",
       "      <td>1</td>\n",
       "      <td>2</td>\n",
       "      <td>Admission or establishment of new States.  [</td>\n",
       "      <td>PART I</td>\n",
       "      <td>THE UNION AND ITS TERRITORY  ARTICLES</td>\n",
       "    </tr>\n",
       "    <tr>\n",
       "      <th>2</th>\n",
       "      <td>2</td>\n",
       "      <td>2A</td>\n",
       "      <td>Sikkim to be associated with the Union. —Omitt...</td>\n",
       "      <td>PART I</td>\n",
       "      <td>THE UNION AND ITS TERRITORY  ARTICLES</td>\n",
       "    </tr>\n",
       "    <tr>\n",
       "      <th>3</th>\n",
       "      <td>3</td>\n",
       "      <td>3</td>\n",
       "      <td>Formation of new States and alteration of area...</td>\n",
       "      <td>PART I</td>\n",
       "      <td>THE UNION AND ITS TERRITORY  ARTICLES</td>\n",
       "    </tr>\n",
       "    <tr>\n",
       "      <th>4</th>\n",
       "      <td>4</td>\n",
       "      <td>4</td>\n",
       "      <td>Laws made under articles 2 and 3 to provide fo...</td>\n",
       "      <td>PART I</td>\n",
       "      <td>THE UNION AND ITS TERRITORY  ARTICLES</td>\n",
       "    </tr>\n",
       "  </tbody>\n",
       "</table>\n",
       "</div>"
      ],
      "text/plain": [
       "   Unnamed: 0 Article Number  \\\n",
       "0           0              1   \n",
       "1           1              2   \n",
       "2           2             2A   \n",
       "3           3              3   \n",
       "4           4              4   \n",
       "\n",
       "                                       Article Title    Part  \\\n",
       "0                   Name and territory of the Union.  PART I   \n",
       "1       Admission or establishment of new States.  [  PART I   \n",
       "2  Sikkim to be associated with the Union. —Omitt...  PART I   \n",
       "3  Formation of new States and alteration of area...  PART I   \n",
       "4  Laws made under articles 2 and 3 to provide fo...  PART I   \n",
       "\n",
       "                              Part Title  \n",
       "0  THE UNION AND ITS TERRITORY  ARTICLES  \n",
       "1  THE UNION AND ITS TERRITORY  ARTICLES  \n",
       "2  THE UNION AND ITS TERRITORY  ARTICLES  \n",
       "3  THE UNION AND ITS TERRITORY  ARTICLES  \n",
       "4  THE UNION AND ITS TERRITORY  ARTICLES  "
      ]
     },
     "execution_count": 6,
     "metadata": {},
     "output_type": "execute_result"
    }
   ],
   "source": [
    "articles_df = pd.read_csv('data/article_titles.csv')\n",
    "articles_df.head()"
   ]
  },
  {
   "cell_type": "code",
   "execution_count": null,
   "metadata": {},
   "outputs": [],
   "source": []
  }
 ],
 "metadata": {
  "kernelspec": {
   "display_name": "nlp",
   "language": "python",
   "name": "python3"
  },
  "language_info": {
   "codemirror_mode": {
    "name": "ipython",
    "version": 3
   },
   "file_extension": ".py",
   "mimetype": "text/x-python",
   "name": "python",
   "nbconvert_exporter": "python",
   "pygments_lexer": "ipython3",
   "version": "3.8.16"
  },
  "orig_nbformat": 4
 },
 "nbformat": 4,
 "nbformat_minor": 2
}
